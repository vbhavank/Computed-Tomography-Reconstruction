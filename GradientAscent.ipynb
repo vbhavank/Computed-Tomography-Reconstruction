{
 "cells": [
  {
   "cell_type": "code",
   "execution_count": 1,
   "metadata": {},
   "outputs": [],
   "source": [
    "import numpy as np\n",
    "import matplotlib.pyplot as plt"
   ]
  },
  {
   "cell_type": "code",
   "execution_count": 9,
   "metadata": {},
   "outputs": [],
   "source": [
    "num_iteration = 1000\n",
    "mc_iteration = 10"
   ]
  },
  {
   "cell_type": "markdown",
   "metadata": {},
   "source": [
    "# Loading simulated image data"
   ]
  },
  {
   "cell_type": "code",
   "execution_count": 4,
   "metadata": {},
   "outputs": [
    {
     "name": "stdout",
     "output_type": "stream",
     "text": [
      "Image vector x is of shape (625,)\n",
      "Mixing matrix A is of shape (905, 625)\n",
      "Observation matrix Y is of shape (905,)\n"
     ]
    }
   ],
   "source": [
    "A_matrix = np.load(\"simulated_large_A.npy\")\n",
    "x_vec = np.load(\"simulated_large_x.npy\")\n",
    "Ax = A_matrix@x_vec.flatten()\n",
    "y_observation = np.random.poisson(Ax).reshape(len(A_matrix[:, 0]))\n",
    "\n",
    "print(\"Image vector x is of shape {}\".format(np.shape(x_vec)))\n",
    "print(\"Mixing matrix A is of shape {}\".format(np.shape(A_matrix)))\n",
    "print(\"Observation matrix Y is of shape {}\".format(np.shape(y_observation)))\n",
    "\n",
    "# Initialize x with vector of all ones.\n",
    "x_init = np.ones(x_vec.shape)"
   ]
  },
  {
   "cell_type": "markdown",
   "metadata": {},
   "source": [
    "# Gradient Ascent for poisson distributed data"
   ]
  },
  {
   "cell_type": "code",
   "execution_count": 5,
   "metadata": {},
   "outputs": [],
   "source": [
    "class GradientAscent():\n",
    "    def __init__(self,\n",
    "                 y_observation,\n",
    "                 A_matrix):\n",
    "        self.y_obser = y_observation\n",
    "        self.A_mat = A_matrix\n",
    "\n",
    "    def compute_gradient(self):\n",
    "        inner_term_final = 0\n",
    "        Axn = (self.A_mat * self.x_old)\n",
    "        for i in range(len(self.y_obser)):\n",
    "            inner_term_final += (((self.y_obser[i] * self.A_mat[i, :]) / sum(Axn[i, :])) - self.A_mat[i, :])\n",
    "        return inner_term_final\n",
    "\n",
    "    def _get_new_x(self, x_old, lr_r=0.1):\n",
    "        self.x_old = x_old\n",
    "        gradient_step = self.compute_gradient()\n",
    "        x_new = (x_old + lr_r*(gradient_step))\n",
    "        return x_new"
   ]
  },
  {
   "cell_type": "code",
   "execution_count": 10,
   "metadata": {},
   "outputs": [
    {
     "name": "stdout",
     "output_type": "stream",
     "text": [
      "epoc:  0, diff:  2.8445E-01, mse: 646.3572, step: 999\n",
      "epoc:  1, diff:  2.7525E-01, mse: 638.5936, step: 999\n",
      "epoc:  2, diff:  2.7561E-01, mse: 638.2541, step: 999\n",
      "epoc:  3, diff:  1.3274E+00, mse: 1811.5299, step: 999\n",
      "epoc:  4, diff:  4.4502E-01, mse: 802.2524, step: 999\n",
      "epoc:  5, diff:  2.7451E-01, mse: 639.2347, step: 999\n",
      "epoc:  6, diff:  2.9160E-01, mse: 667.9219, step: 999\n",
      "epoc:  7, diff:  3.0579E-01, mse: 662.1603, step: 999\n",
      "epoc:  8, diff:  2.4563E+00, mse: 3588.2659, step: 999\n",
      "epoc:  9, diff:  3.1619E-01, mse: 682.3324, step: 999\n"
     ]
    }
   ],
   "source": [
    "# Run GD multiple times and average estimates with new y. Randomness from poisson\n",
    "estimates_mc = []\n",
    "for epoc in range(mc_iteration):\n",
    "    x_init = np.ones(x_vec.shape)\n",
    "    y_observation = np.random.poisson(Ax).reshape(len(y_observation))\n",
    "    GA_solver = GradientAscent(y_observation, A_matrix)\n",
    "    for i in range(num_iteration):\n",
    "        x_new = GA_solver._get_new_x(x_init)\n",
    "        diff = np.linalg.norm(x_new - x_init)\n",
    "        mse = np.linalg.norm(x_new - x_vec)\n",
    "        if (diff <= 1e-5):\n",
    "            break\n",
    "        x_init = x_new\n",
    "    estimates_mc.append(x_new)\n",
    "    print(f'epoc: {epoc:2d}, diff: {diff: .4E}, mse: {mse:8.4f}, step: {i:2d}')"
   ]
  },
  {
   "cell_type": "code",
   "execution_count": 20,
   "metadata": {
    "scrolled": false
   },
   "outputs": [
    {
     "name": "stdout",
     "output_type": "stream",
     "text": [
      "Averaged estimate error:769.2924478719738\n"
     ]
    }
   ],
   "source": [
    "avg_estimate = sum(estimates_mc)/len(estimates_mc)\n",
    "mse = np.linalg.norm(avg_estimate - x_vec)\n",
    "# print(\"Averaged Estimate:{}\".format(avg_estimate))\n",
    "print(\"Averaged estimate error:{}\".format(mse))\n",
    "# print(\"Actual x_vector simulated:{}\".format(x_vec))"
   ]
  },
  {
   "cell_type": "code",
   "execution_count": 21,
   "metadata": {},
   "outputs": [
    {
     "data": {
      "image/png": "[encoded data removed]",
      "text/plain": [
       "<Figure size 432x288 with 2 Axes>"
      ]
     },
     "metadata": {
      "needs_background": "light"
     },
     "output_type": "display_data"
    }
   ],
   "source": [
    "size = int(np.sqrt(len(x_vec)))\n",
    "plt.figure()\n",
    "plt.subplot(1, 2, 1)\n",
    "plt.imshow(x_new.reshape(size, size), cmap='gray')\n",
    "plt.title('Reconstructed Image')\n",
    "plt.axis('off')\n",
    "\n",
    "plt.subplot(1, 2, 2)\n",
    "plt.imshow(x_vec.reshape(size, size), cmap='gray')\n",
    "plt.axis('off')\n",
    "plt.title('Original Image')\n",
    "plt.show()"
   ]
  }
 ],
 "metadata": {
  "kernelspec": {
   "display_name": "Python 3",
   "language": "python",
   "name": "python3"
  },
  "language_info": {
   "codemirror_mode": {
    "name": "ipython",
    "version": 3
   },
   "file_extension": ".py",
   "mimetype": "text/x-python",
   "name": "python",
   "nbconvert_exporter": "python",
   "pygments_lexer": "ipython3",
   "version": "3.8.10"
  }
 },
 "nbformat": 4,
 "nbformat_minor": 4
}
