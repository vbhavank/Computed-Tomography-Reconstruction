{
 "cells": [
  {
   "cell_type": "code",
   "execution_count": 2,
   "id": "1ed0296d-93f0-4294-8005-079d17be3c9a",
   "metadata": {},
   "outputs": [],
   "source": [
    "import numpy as np\n",
    "import scipy.io as sio"
   ]
  },
  {
   "cell_type": "markdown",
   "id": "e18d859a-94b4-492d-8f45-c5865b489926",
   "metadata": {},
   "source": [
    "# Load matrix A"
   ]
  },
  {
   "cell_type": "code",
   "execution_count": 146,
   "id": "022c2052-47c8-4bfb-abd5-b532efcd435a",
   "metadata": {},
   "outputs": [
    {
     "name": "stdout",
     "output_type": "stream",
     "text": [
      "28 25\n"
     ]
    }
   ],
   "source": [
    "dmat = sio.loadmat(\"simulated_heart.mat\")\n",
    "A = dmat['A']\n",
    "N, M = A.shape\n",
    "print(N, M)"
   ]
  },
  {
   "cell_type": "markdown",
   "id": "dda02027-53e7-4b67-9397-5eeb5751af35",
   "metadata": {},
   "source": [
    "# Generate X"
   ]
  },
  {
   "cell_type": "code",
   "execution_count": 147,
   "id": "04b2236a-3edf-4ba0-b49b-4df856a4cebf",
   "metadata": {},
   "outputs": [
    {
     "name": "stdout",
     "output_type": "stream",
     "text": [
      "[ 1.54070847  7.25638641  7.31670482  7.61751861 10.81099238  7.62274742\n",
      "  4.78509669  5.3400481   7.95566819  1.68437442  7.69647587  7.9972334\n",
      "  3.25603316  2.31359798  4.24305616  4.70384257  7.00078352  5.34498348\n",
      " 10.94635192  1.84962896  2.5781696   2.7438189   7.70397049  3.38448302\n",
      "  6.11705865]\n",
      "[ 1.54070847 14.87913383 19.79827738 25.65864268 31.60164684 12.08677478\n",
      " 22.89337857  5.23411198  6.11705865 10.81099238  9.30189303 19.51542917\n",
      " 16.75966145 26.64524889 24.34944732 22.40122988  7.44766147  2.5781696\n",
      " 24.14194393 29.78331892 28.96174005 32.21761972 24.70511057 34.5423107\n",
      " 27.38793481 25.50639656 29.84559046 22.52750066]\n"
     ]
    }
   ],
   "source": [
    "np.random.seed(0)\n",
    "g = np.random.randn(25)+ 5\n",
    "u = np.random.uniform(0, 10, 25)\n",
    "x = 0.2*g + u\n",
    "x_flat = x.flatten()\n",
    "Ax = A@x_f\n",
    "print(x_flat)\n",
    "print(Ax)"
   ]
  },
  {
   "cell_type": "markdown",
   "id": "283cc42f-cbd1-4f3f-b794-675c7aed7c0c",
   "metadata": {},
   "source": [
    "# Monte-Carlo EM-based ML estimation"
   ]
  },
  {
   "cell_type": "code",
   "execution_count": 172,
   "id": "8e366297-6391-4883-a538-d22be5700304",
   "metadata": {},
   "outputs": [
    {
     "name": "stdout",
     "output_type": "stream",
     "text": [
      "epoc:  0, diff:  9.8053E-06, mse:  13.0085, step: 185\n",
      "epoc:  1, diff:  9.6705E-06, mse:   8.2611, step: 175\n",
      "epoc:  2, diff:  9.7512E-06, mse:  12.5532, step: 137\n",
      "epoc:  3, diff:  9.9436E-06, mse:  14.0769, step: 338\n",
      "epoc:  4, diff:  9.2441E-06, mse:  12.9914, step: 115\n",
      "epoc:  5, diff:  9.7383E-06, mse:   9.2951, step: 235\n",
      "epoc:  6, diff:  9.8310E-06, mse:  11.2124, step: 172\n",
      "epoc:  7, diff:  9.7353E-06, mse:   8.5386, step: 194\n",
      "epoc:  8, diff:  9.6574E-06, mse:  12.6682, step: 169\n",
      "epoc:  9, diff:  9.3699E-06, mse:   9.5852, step: 142\n",
      "epoc: 10, diff:  9.7931E-06, mse:  10.9851, step: 335\n",
      "epoc: 11, diff:  9.5951E-06, mse:  11.7150, step: 139\n",
      "epoc: 12, diff:  9.4666E-06, mse:  11.5947, step: 129\n",
      "epoc: 13, diff:  9.8679E-06, mse:  13.4083, step: 421\n",
      "epoc: 14, diff:  9.9157E-06, mse:   8.9436, step: 494\n",
      "epoc: 15, diff:  9.7105E-06, mse:  11.5126, step: 180\n",
      "epoc: 16, diff:  1.0940E-05, mse:  13.0435, step: 1000\n",
      "epoc: 17, diff:  9.6965E-06, mse:  11.6977, step: 107\n",
      "epoc: 18, diff:  9.9215E-06, mse:   8.8675, step: 682\n",
      "epoc: 19, diff:  9.8532E-06, mse:  10.9669, step: 178\n",
      "epoc: 20, diff:  9.8045E-06, mse:  11.4420, step: 363\n",
      "epoc: 21, diff:  9.9562E-06, mse:  14.9760, step: 275\n",
      "epoc: 22, diff:  9.8064E-06, mse:   9.8206, step: 148\n",
      "epoc: 23, diff:  9.8025E-06, mse:  10.9822, step: 145\n",
      "epoc: 24, diff:  9.5980E-06, mse:  11.7696, step: 196\n",
      "epoc: 25, diff:  9.6174E-06, mse:  14.9887, step: 248\n",
      "epoc: 26, diff:  3.1830E-05, mse:   8.5927, step: 1000\n",
      "epoc: 27, diff:  9.7931E-06, mse:   8.9932, step: 101\n",
      "epoc: 28, diff:  9.7918E-06, mse:  12.6696, step: 167\n",
      "epoc: 29, diff:  9.8401E-06, mse:   9.2871, step: 223\n",
      "epoc: 30, diff:  9.4690E-06, mse:  12.2254, step: 117\n",
      "epoc: 31, diff:  9.6425E-06, mse:  12.3354, step: 176\n",
      "epoc: 32, diff:  9.7175E-06, mse:  12.3498, step: 222\n",
      "epoc: 33, diff:  9.7608E-06, mse:  13.0698, step: 164\n",
      "epoc: 34, diff:  9.8601E-06, mse:   9.8687, step: 351\n",
      "epoc: 35, diff:  9.5950E-06, mse:   9.9386, step: 154\n",
      "epoc: 36, diff:  9.7855E-06, mse:  10.2085, step: 110\n",
      "epoc: 37, diff:  9.7806E-06, mse:   8.5125, step: 234\n",
      "epoc: 38, diff:  9.6605E-06, mse:   8.6522, step: 231\n",
      "epoc: 39, diff:  9.7357E-06, mse:   7.1731, step: 248\n",
      "epoc: 40, diff:  9.8983E-06, mse:  14.8612, step: 491\n",
      "epoc: 41, diff:  9.9961E-06, mse:  14.6552, step: 380\n",
      "epoc: 42, diff:  9.4445E-06, mse:  10.9930, step: 116\n",
      "epoc: 43, diff:  9.9313E-06, mse:  13.9108, step: 150\n",
      "epoc: 44, diff:  9.9693E-06, mse:   9.8193, step: 169\n",
      "epoc: 45, diff:  9.7809E-06, mse:   9.1640, step: 130\n",
      "epoc: 46, diff:  9.9890E-06, mse:  11.3211, step: 481\n",
      "epoc: 47, diff:  9.8163E-06, mse:  11.6957, step: 252\n",
      "epoc: 48, diff:  9.7986E-06, mse:  10.9246, step: 332\n",
      "epoc: 49, diff:  9.8891E-06, mse:   8.3802, step: 200\n",
      "epoc: 50, diff:  9.9226E-06, mse:   9.8504, step: 222\n",
      "epoc: 51, diff:  9.8277E-06, mse:  11.1136, step: 153\n",
      "epoc: 52, diff:  9.8833E-06, mse:  16.2844, step: 264\n",
      "epoc: 53, diff:  3.0924E-05, mse:  11.6065, step: 1000\n",
      "epoc: 54, diff:  9.8202E-06, mse:  10.2513, step: 402\n",
      "epoc: 55, diff:  9.7429E-06, mse:  10.7556, step: 226\n",
      "epoc: 56, diff:  9.7301E-06, mse:  12.1155, step: 223\n",
      "epoc: 57, diff:  9.2628E-06, mse:  14.0689, step: 115\n",
      "epoc: 58, diff:  9.9194E-06, mse:  12.5522, step: 396\n",
      "epoc: 59, diff:  9.9559E-06, mse:  11.2103, step: 175\n",
      "epoc: 60, diff:  9.7943E-06, mse:  13.3390, step: 165\n",
      "epoc: 61, diff:  9.9493E-06, mse:   7.6556, step: 643\n",
      "epoc: 62, diff:  9.9138E-06, mse:  12.6727, step: 458\n",
      "epoc: 63, diff:  9.5955E-06, mse:  12.0786, step: 191\n",
      "epoc: 64, diff:  9.9554E-06, mse:  13.8844, step: 363\n",
      "epoc: 65, diff:  9.9087E-06, mse:  12.7000, step: 217\n",
      "epoc: 66, diff:  4.2614E-05, mse:   9.1767, step: 1000\n",
      "epoc: 67, diff:  9.8317E-06, mse:  10.0370, step: 229\n",
      "epoc: 68, diff:  9.9886E-06, mse:   9.6782, step: 202\n",
      "epoc: 69, diff:  9.8894E-06, mse:   8.6316, step: 164\n",
      "epoc: 70, diff:  9.8556E-06, mse:  11.4203, step: 218\n",
      "epoc: 71, diff:  4.3771E-05, mse:  12.5120, step: 1000\n",
      "epoc: 72, diff:  9.9403E-06, mse:  10.0117, step: 160\n",
      "epoc: 73, diff:  9.5116E-06, mse:  11.1214, step: 93\n",
      "epoc: 74, diff:  9.9403E-06, mse:  13.6217, step: 188\n",
      "epoc: 75, diff:  9.7557E-06, mse:  13.1799, step: 263\n",
      "epoc: 76, diff:  9.4338E-06, mse:  11.7452, step: 139\n",
      "epoc: 77, diff:  9.9789E-06, mse:  10.6430, step: 374\n",
      "epoc: 78, diff:  9.9444E-06, mse:   8.9039, step: 163\n",
      "epoc: 79, diff:  9.9958E-06, mse:  10.5571, step: 158\n",
      "epoc: 80, diff:  9.8766E-06, mse:   9.3121, step: 131\n",
      "epoc: 81, diff:  9.9691E-06, mse:  13.4747, step: 264\n",
      "epoc: 82, diff:  9.8527E-06, mse:  10.8380, step: 424\n",
      "epoc: 83, diff:  9.5403E-06, mse:   9.4310, step: 159\n",
      "epoc: 84, diff:  9.8802E-06, mse:  13.3143, step: 233\n",
      "epoc: 85, diff:  9.5692E-06, mse:  10.8462, step: 182\n",
      "epoc: 86, diff:  9.6865E-06, mse:   9.9830, step: 168\n",
      "epoc: 87, diff:  9.7186E-06, mse:  11.8914, step: 204\n",
      "epoc: 88, diff:  9.8936E-06, mse:   8.3632, step: 506\n",
      "epoc: 89, diff:  9.4974E-06, mse:  10.1989, step: 159\n",
      "epoc: 90, diff:  9.9166E-06, mse:  11.3251, step: 373\n",
      "epoc: 91, diff:  9.7185E-06, mse:   8.8477, step: 166\n",
      "epoc: 92, diff:  9.9577E-06, mse:  12.1266, step: 398\n",
      "epoc: 93, diff:  9.6623E-06, mse:   8.9303, step: 129\n",
      "epoc: 94, diff:  9.6283E-06, mse:   9.9084, step: 154\n",
      "epoc: 95, diff:  9.9991E-06, mse:   9.9255, step: 518\n",
      "epoc: 96, diff:  9.9885E-06, mse:  12.6966, step: 619\n",
      "epoc: 97, diff:  9.9427E-06, mse:  10.2904, step: 150\n",
      "epoc: 98, diff:  9.8207E-06, mse:  14.4329, step: 196\n",
      "epoc: 99, diff:  9.9902E-06, mse:  12.0803, step: 140\n"
     ]
    }
   ],
   "source": [
    "x_mc = []\n",
    "for k in range(100):\n",
    "    y = np.random.poisson(Ax)\n",
    "    x_new, diff, mse, step = mle_em(1000, A, y)\n",
    "    print(f'epoc: {k:2d}, diff: {diff: .4E}, mse: {mse:8.4f}, step: {step}')\n",
    "    x_mc.append(x_new)"
   ]
  },
  {
   "cell_type": "markdown",
   "id": "1447be8e-7bf0-45c9-b29f-00183c7f23db",
   "metadata": {},
   "source": [
    "# Evaluation by average estimations"
   ]
  },
  {
   "cell_type": "code",
   "execution_count": 173,
   "id": "d4b90e4a-08cd-4c2c-a913-97a1c8cbcb77",
   "metadata": {},
   "outputs": [
    {
     "name": "stdout",
     "output_type": "stream",
     "text": [
      "[ 1.58514561  7.05321615  7.84218961  7.28920865 11.24756076  7.78068855\n",
      "  5.26403763  5.13733322  7.19892968  1.57490981  6.4147914   8.0409678\n",
      "  3.42553386  3.19582516  4.80572169  5.01841024  8.15573494  4.7664087\n",
      " 10.02424177  1.58800636  2.74167152  2.17529017  7.97295396  3.56951468\n",
      "  5.80670806]\n",
      "[ 1.54070847  7.25638641  7.31670482  7.61751861 10.81099238  7.62274742\n",
      "  4.78509669  5.3400481   7.95566819  1.68437442  7.69647587  7.9972334\n",
      "  3.25603316  2.31359798  4.24305616  4.70384257  7.00078352  5.34498348\n",
      " 10.94635192  1.84962896  2.5781696   2.7438189   7.70397049  3.38448302\n",
      "  6.11705865]\n",
      "mse:  2.7396\n"
     ]
    }
   ],
   "source": [
    "x_mcem = np.average(x_mc, axis=0)\n",
    "print(x_mcem)\n",
    "print(x_flat)\n",
    "print(f\"mse: {np.linalg.norm(x_mcem - x_flat): .4f}\")"
   ]
  },
  {
   "cell_type": "markdown",
   "id": "e02b4353-e223-4644-831e-3885680d715f",
   "metadata": {},
   "source": [
    "# Functions"
   ]
  },
  {
   "cell_type": "code",
   "execution_count": 138,
   "id": "649ef5b4-f1e9-45a4-aeaa-83024160c478",
   "metadata": {},
   "outputs": [],
   "source": [
    "def intialize(y):\n",
    "    x_start = np.zeros(M)\n",
    "    for k, o in enumerate(y):\n",
    "        aver = o/sum(A_matrix[k])\n",
    "        x_start += A_matrix[k]*aver\n",
    "        # print(k, o, aver)\n",
    "    x_start = x_start/N\n",
    "    return x_start"
   ]
  },
  {
   "cell_type": "code",
   "execution_count": 139,
   "id": "58463502-91fc-4888-a9b1-10a7a053f4b8",
   "metadata": {},
   "outputs": [],
   "source": [
    "def em(A, y, x_old):\n",
    "    z = np.zeros((N, M))\n",
    "    for i in range(N):\n",
    "        z[i] = y[i]*A[i]*x_old/sum(A[i]*x_old)\n",
    "    x_new = np.zeros(M)\n",
    "    for j in range(M):\n",
    "        x_new[j] = sum(z[:, j])/(sum(A[:, j]))\n",
    "    return x_new"
   ]
  },
  {
   "cell_type": "code",
   "execution_count": 143,
   "id": "fa7793ca-ff52-41cb-b14c-d800f7065682",
   "metadata": {},
   "outputs": [],
   "source": [
    "def mle_em(max_iter, A, y, x_true=x_flat):\n",
    "    x_old = intialize(y)\n",
    "    mse = []\n",
    "    for i in range(max_iter):\n",
    "        x_new = em(A_matrix, y, x_old)\n",
    "        mse = np.linalg.norm(x_new-x_true)\n",
    "        diff = np.linalg.norm(x_new-x_old)\n",
    "        # if i%100 == 0:\n",
    "        #     print(f'step: {i}, diff: {diff}, mse: {mse}')\n",
    "        if diff < 1e-5:\n",
    "            return x_new, diff, mse, i\n",
    "        x_old = x_new\n",
    "    return x_new, diff, mse, max_iter"
   ]
  }
 ],
 "metadata": {
  "kernelspec": {
   "display_name": "nmf",
   "language": "python",
   "name": "nmf"
  },
  "language_info": {
   "codemirror_mode": {
    "name": "ipython",
    "version": 3
   },
   "file_extension": ".py",
   "mimetype": "text/x-python",
   "name": "python",
   "nbconvert_exporter": "python",
   "pygments_lexer": "ipython3",
   "version": "3.8.11"
  }
 },
 "nbformat": 4,
 "nbformat_minor": 5
}
