{
 "cells": [
  {
   "cell_type": "code",
   "execution_count": 1,
   "id": "3861c248-aff2-41ba-aeb1-f2bdcb847a9a",
   "metadata": {},
   "outputs": [],
   "source": [
    "import numpy as np\n",
    "import matplotlib.pyplot as plt"
   ]
  },
  {
   "cell_type": "code",
   "execution_count": 2,
   "id": "36bc47ac-906f-4173-8d55-cd7faebe6f52",
   "metadata": {},
   "outputs": [],
   "source": [
    "A = np.load(\"simulated_large_A.npy\")\n",
    "x_flat = np.load(\"simulated_large_x.npy\")"
   ]
  },
  {
   "cell_type": "code",
   "execution_count": 3,
   "id": "1a0ae052-73c3-4f47-b3fe-ff5dc25c0a08",
   "metadata": {},
   "outputs": [
    {
     "data": {
      "text/plain": [
       "((3108, 2500), (2500,))"
      ]
     },
     "execution_count": 3,
     "metadata": {},
     "output_type": "execute_result"
    }
   ],
   "source": [
    "A.shape, x_flat.shape"
   ]
  },
  {
   "cell_type": "code",
   "execution_count": 6,
   "id": "d237a0ec-cb9d-4f3c-8f6d-da4ee91182be",
   "metadata": {},
   "outputs": [
    {
     "name": "stdout",
     "output_type": "stream",
     "text": [
      "Image vector x is of shape (2500,)\n",
      "Mixing matrix A is of shape (3108, 2500)\n",
      "Observation matrix Y is of shape (3108,)\n",
      "M=2500, N=3108\n"
     ]
    }
   ],
   "source": [
    "Ax = A@x_flat\n",
    "y = np.random.poisson(Ax).reshape(len(A[:, 0]))\n",
    "N, M = A.shape\n",
    "\n",
    "print(\"Image vector x is of shape {}\".format(np.shape(x_flat)))\n",
    "print(\"Mixing matrix A is of shape {}\".format(np.shape(A)))\n",
    "print(\"Observation matrix Y is of shape {}\".format(np.shape(y)))\n",
    "print(f\"M={M}, N={N}\")"
   ]
  },
  {
   "cell_type": "code",
   "execution_count": 14,
   "id": "33ac0e70-928f-4cc0-964a-2592cac0e784",
   "metadata": {},
   "outputs": [
    {
     "name": "stdout",
     "output_type": "stream",
     "text": [
      "step: 0, diff: 3852.9287154299577, mse: 1481.6489379363384\n",
      "step: 1, diff: 239.07995619466607, mse: 1362.6899482719655\n",
      "step: 2, diff: 146.54551973989464, mse: 1283.1207391362934\n",
      "step: 3, diff: 106.49011642760752, mse: 1219.8361733350876\n",
      "step: 4, diff: 85.7723614370583, mse: 1165.8964610276946\n",
      "step: 5, diff: 73.20595434376868, mse: 1118.5928358227402\n",
      "step: 6, diff: 64.50284708393981, mse: 1076.5811955527197\n",
      "step: 7, diff: 57.873579508267284, mse: 1039.0402543404894\n",
      "step: 8, diff: 52.501109420180214, mse: 1005.3851945898782\n",
      "step: 9, diff: 47.97305761367315, mse: 975.1570654541713\n",
      "step: 10, diff: 44.05922017874083, mse: 947.9744765699625\n",
      "step: 11, diff: 40.618859039065896, mse: 923.5098121450085\n",
      "step: 12, diff: 37.55915280163587, mse: 901.4761459262205\n",
      "step: 13, diff: 34.815036761619844, mse: 881.619308984794\n",
      "step: 14, diff: 32.33862116801013, mse: 863.7126599466859\n",
      "step: 15, diff: 30.09323142801531, mse: 847.5533714666008\n",
      "step: 16, diff: 28.04985008797984, mse: 832.9596128292952\n",
      "step: 17, diff: 26.184892208770727, mse: 819.7682863822465\n",
      "step: 18, diff: 24.478761752040285, mse: 807.8331227522772\n",
      "step: 19, diff: 22.91488444658536, mse: 797.0230220591967\n",
      "step: 20, diff: 21.47904041726303, mse: 787.2205755598516\n",
      "step: 21, diff: 20.158890122790357, mse: 778.3207294228454\n",
      "step: 22, diff: 18.943627781055405, mse: 770.2295679152705\n",
      "step: 23, diff: 17.82372081106832, mse: 762.8632019760743\n",
      "step: 24, diff: 16.790708754314082, mse: 756.146753824026\n",
      "step: 25, diff: 15.83704443041832, mse: 750.0134306297838\n",
      "step: 26, diff: 14.955965921760049, mse: 744.4036814056806\n",
      "step: 27, diff: 14.141391684196972, mse: 739.2644317420861\n",
      "step: 28, diff: 13.387833452861193, mse: 734.5483911938508\n",
      "step: 29, diff: 12.690323152204659, mse: 730.2134281857861\n",
      "step: 30, diff: 12.044351037913167, mse: 726.222007360894\n",
      "step: 31, diff: 11.445812987167542, mse: 722.5406843840849\n",
      "step: 32, diff: 10.890965332104098, mse: 719.1396533526192\n",
      "step: 33, diff: 10.376385973072585, mse: 715.9923421520091\n",
      "step: 34, diff: 9.898940759382665, mse: 713.0750513247743\n",
      "step: 35, diff: 9.455754314564313, mse: 710.3666322786273\n",
      "step: 36, diff: 9.04418462918564, mse: 707.8482009395149\n",
      "step: 37, diff: 8.661800859021122, mse: 705.5028832436216\n",
      "step: 38, diff: 8.306363857961887, mse: 703.3155891526726\n",
      "step: 39, diff: 7.97580904913696, mse: 701.2728121620682\n",
      "step: 40, diff: 7.668231298332341, mse: 699.3624515465875\n",
      "step: 41, diff: 7.381871503939859, mse: 697.5736548500541\n",
      "step: 42, diff: 7.11510465960066, mse: 695.8966783711556\n",
      "step: 43, diff: 6.866429181135342, mse: 694.3227636261688\n",
      "step: 44, diff: 6.634457319587875, mse: 692.8440279801175\n",
      "step: 45, diff: 6.417906508235136, mse: 691.4533678308551\n",
      "step: 46, diff: 6.215591513976527, mse: 690.1443729061746\n",
      "step: 47, diff: 6.026417283155676, mse: 688.9112503930395\n",
      "step: 48, diff: 5.849372389001341, mse: 687.7487577613447\n",
      "step: 49, diff: 5.6835230027889025, mse: 686.6521432733075\n",
      "step: 50, diff: 5.528007323755476, mse: 685.61709328479\n",
      "step: 51, diff: 5.382030413931512, mse: 684.6396855476804\n",
      "step: 52, diff: 5.244859393532418, mse: 683.7163478140418\n",
      "step: 53, diff: 5.115818960532304, mse: 682.8438211241187\n",
      "step: 54, diff: 4.994287204659604, mse: 682.0191272325108\n",
      "step: 55, diff: 4.879691691450918, mse: 681.2395396907942\n",
      "step: 56, diff: 4.771505796321856, mse: 680.5025581614849\n",
      "step: 57, diff: 4.669245272001155, mse: 679.8058855882806\n",
      "step: 58, diff: 4.572465035272433, mse: 679.1474078917212\n",
      "step: 59, diff: 4.4807561609071405, mse: 678.5251758984137\n",
      "step: 60, diff: 4.393743072081598, mse: 677.9373892463882\n",
      "step: 61, diff: 4.311080917562068, mse: 677.3823820394879\n",
      "step: 62, diff: 4.232453126615273, mse: 676.8586100504484\n",
      "step: 63, diff: 4.157569133046478, mse: 676.3646392958901\n",
      "step: 64, diff: 4.086162260049616, mse: 675.8991358272091\n",
      "step: 65, diff: 4.017987757737092, mse: 675.4608565996559\n",
      "step: 66, diff: 3.9528209853433256, mse: 675.048641298002\n",
      "step: 67, diff: 3.890455730198347, mse: 674.6614050113969\n",
      "step: 68, diff: 3.8307026556743393, mse: 674.2981316625272\n",
      "step: 69, diff: 3.7733878704283073, mse: 673.9578681072161\n",
      "step: 70, diff: 3.7183516114146444, mse: 673.6397188303092\n",
      "step: 71, diff: 3.665447033320601, mse: 673.3428411722665\n",
      "step: 72, diff: 3.6145390972913254, mse: 673.0664410284156\n",
      "step: 73, diff: 3.5655035520519296, mse: 672.8097689694947\n",
      "step: 74, diff: 3.5182260008036166, mse: 672.5721167379698\n",
      "step: 75, diff: 3.472601047562324, mse: 672.3528140798088\n",
      "step: 76, diff: 3.4285315169132695, mse: 672.1512258759502\n",
      "step: 77, diff: 3.3859277414755935, mse: 671.9667495417606\n",
      "step: 78, diff: 3.3447069116937884, mse: 671.7988126663255\n",
      "step: 79, diff: 3.3047924829009716, mse: 671.6468708665786\n",
      "step: 80, diff: 3.2661136349234314, mse: 671.5104058340567\n",
      "step: 81, diff: 3.228604779811904, mse: 671.3889235545274\n",
      "step: 82, diff: 3.1922051136005543, mse: 671.2819526829221\n",
      "step: 83, diff: 3.1568582082878853, mse: 671.1890430579258\n",
      "step: 84, diff: 3.1225116405265685, mse: 671.109764342289\n",
      "step: 85, diff: 3.089116653778183, mse: 671.043704776438\n",
      "step: 86, diff: 3.0566278509501026, mse: 670.9904700342938\n",
      "step: 87, diff: 3.0250029147745314, mse: 670.9496821714083\n",
      "step: 88, diff: 2.9942023534169526, mse: 670.9209786565705\n",
      "step: 89, diff: 2.9641892690170284, mse: 670.9040114789766\n",
      "step: 90, diff: 2.9349291470603447, mse: 670.898446323886\n",
      "step: 91, diff: 2.9063896646652885, mse: 670.9039618104267\n",
      "step: 92, diff: 2.8785405160380413, mse: 670.9202487858635\n",
      "step: 93, diff: 2.851353253505858, mse: 670.9470096712334\n",
      "step: 94, diff: 2.8248011426826105, mse: 670.9839578537675\n",
      "step: 95, diff: 2.798859030452407, mse: 671.0308171219825\n",
      "step: 96, diff: 2.7735032245788163, mse: 671.0873211397388\n",
      "step: 97, diff: 2.748711383856853, mse: 671.1532129559271\n",
      "step: 98, diff: 2.7244624178264747, mse: 671.2282445467778\n",
      "step: 99, diff: 2.7007363951587458, mse: 671.3121763880771\n"
     ]
    }
   ],
   "source": [
    "x_et, diff, mse, step = mle_em(100, A, y)"
   ]
  },
  {
   "cell_type": "code",
   "execution_count": 17,
   "id": "13367f96-487b-477e-b873-ae04cbea400f",
   "metadata": {},
   "outputs": [],
   "source": [
    "size = int(np.sqrt(len(x_flat)))"
   ]
  },
  {
   "cell_type": "code",
   "execution_count": 19,
   "id": "bdd5ba94-6476-4e76-b6db-4a298a8adced",
   "metadata": {},
   "outputs": [
    {
     "data": {
      "image/png": "[encoded data removed]",
      "text/plain": [
       "<Figure size 432x288 with 2 Axes>"
      ]
     },
     "metadata": {
      "needs_background": "light"
     },
     "output_type": "display_data"
    }
   ],
   "source": [
    "plt.figure()\n",
    "plt.subplot(1, 2, 1)\n",
    "plt.imshow(x_et.reshape(size, size), cmap='gray')\n",
    "plt.title('Reconstructed Image')\n",
    "plt.axis('off')\n",
    "\n",
    "plt.subplot(1, 2, 2)\n",
    "plt.imshow(x_flat.reshape(size, size), cmap='gray')\n",
    "plt.axis('off')\n",
    "plt.title('Original Image')\n",
    "plt.show()"
   ]
  },
  {
   "cell_type": "markdown",
   "id": "8b8b4c69-2926-4516-9df3-117e4b419b3a",
   "metadata": {},
   "source": [
    "# functions"
   ]
  },
  {
   "cell_type": "code",
   "execution_count": 8,
   "id": "8e5cd8ca-b79f-4b64-89f8-e059c6b3e203",
   "metadata": {},
   "outputs": [],
   "source": [
    "def intialize(y):\n",
    "    x_start = np.zeros(M)\n",
    "    for k, o in enumerate(y):\n",
    "        aver = o/sum(A[k])\n",
    "        x_start += A[k]*aver\n",
    "        # print(k, o, aver)\n",
    "    x_start = x_start/N\n",
    "    return x_start"
   ]
  },
  {
   "cell_type": "code",
   "execution_count": 9,
   "id": "d4c989c2-f8a1-4dc0-8ab3-d04d81039bfe",
   "metadata": {},
   "outputs": [],
   "source": [
    "def em(A, y, x_old):\n",
    "    z = np.zeros((N, M))\n",
    "    for i in range(N):\n",
    "        z[i] = y[i]*A[i]*x_old/sum(A[i]*x_old)\n",
    "    x_new = np.zeros(M)\n",
    "    for j in range(M):\n",
    "        x_new[j] = sum(z[:, j])/(sum(A[:, j]))\n",
    "    return x_new"
   ]
  },
  {
   "cell_type": "code",
   "execution_count": 13,
   "id": "44215791-168f-4c65-b817-6845645d5356",
   "metadata": {},
   "outputs": [],
   "source": [
    "def mle_em(max_iter, A, y, x_true=x_flat):\n",
    "    x_old = intialize(y)\n",
    "    mse = []\n",
    "    for i in range(max_iter):\n",
    "        x_new = em(A, y, x_old)\n",
    "        mse = np.linalg.norm(x_new-x_true)\n",
    "        diff = np.linalg.norm(x_new-x_old)\n",
    "        if i%1 == 0:\n",
    "            print(f'step: {i}, diff: {diff}, mse: {mse}')\n",
    "        if diff < 1e-5:\n",
    "            return x_new, diff, mse, i\n",
    "        x_old = x_new\n",
    "    return x_new, diff, mse, max_iter"
   ]
  }
 ],
 "metadata": {
  "kernelspec": {
   "display_name": "nmf",
   "language": "python",
   "name": "nmf"
  },
  "language_info": {
   "codemirror_mode": {
    "name": "ipython",
    "version": 3
   },
   "file_extension": ".py",
   "mimetype": "text/x-python",
   "name": "python",
   "nbconvert_exporter": "python",
   "pygments_lexer": "ipython3",
   "version": "3.8.11"
  }
 },
 "nbformat": 4,
 "nbformat_minor": 5
}
