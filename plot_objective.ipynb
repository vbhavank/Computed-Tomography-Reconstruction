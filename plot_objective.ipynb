{
 "cells": [
  {
   "cell_type": "code",
   "execution_count": 5,
   "id": "4e0a6057-618b-4e4c-b10a-9a760091f9b7",
   "metadata": {},
   "outputs": [],
   "source": [
    "import numpy as np\n",
    "from scipy import sparse\n",
    "import matplotlib.pyplot as plt\n",
    "import time"
   ]
  },
  {
   "cell_type": "code",
   "execution_count": 2,
   "id": "5d99b7c6-c4c9-458a-b8bd-44b058c322d0",
   "metadata": {},
   "outputs": [],
   "source": [
    "from em import initialize, em, mle_em, em_bdct, mle_em_with_obj"
   ]
  },
  {
   "cell_type": "code",
   "execution_count": 3,
   "id": "263e31e8-d4d6-49bc-ab73-b08dde7c6bf8",
   "metadata": {},
   "outputs": [],
   "source": [
    "def run(max_step, threshold, sparse, ix = 0):\n",
    "    np.random.seed()\n",
    "    start = time.time()\n",
    "    y_rand = np.random.poisson(Ax)\n",
    "    # x_initial = np.random.randn(len(x_flat))\n",
    "    print(f\"process: {ix: 2d}, y[:10]: {y_rand[:10]}\")\n",
    "    x_et, diff, mse, objs, step = mle_em_with_obj(max_step, A, y_rand, x_true=x_flat, threshold=threshold, x_initial=None, sparse=sparse)\n",
    "    print(f\"process: {ix: 2d} finished. step: {step: 2d}, mse: {mse: 8.2f}, diff: {diff: 8.2f} time consuming: {time.time() - start: 8.1f} seconds\")\n",
    "    return x_et, diff, mse, objs, step"
   ]
  },
  {
   "cell_type": "code",
   "execution_count": 6,
   "id": "19ff4d2e-8983-42ed-9fb0-0bde1bf075c8",
   "metadata": {},
   "outputs": [],
   "source": [
    "A_original = sparse.load_npz(\"data/simulated_large_A_23_10.npz\")\n",
    "x_flat = np.load(\"data/simulated_large_x_23_10.npy\")"
   ]
  },
  {
   "cell_type": "code",
   "execution_count": 7,
   "id": "23230823-ef71-4986-ace4-a634afe1e32a",
   "metadata": {},
   "outputs": [],
   "source": [
    "e_stop = 0.001"
   ]
  },
  {
   "cell_type": "code",
   "execution_count": 8,
   "id": "291abec2-fa61-4f0e-9ae1-b5a9478c2d4b",
   "metadata": {},
   "outputs": [
    {
     "name": "stdout",
     "output_type": "stream",
     "text": [
      "process:  0, y[:10]: [   0  244  439  425  605  590  712 1100 1266 1065]\n",
      "step: 0, diff: 1053.0667721214488, mse: 777.1636832014116\n",
      "step: 20, diff: 8.510329088223905, mse: 294.4596068232555\n",
      "step: 40, diff: 3.689886082985331, mse: 203.55862699587442\n",
      "step: 60, diff: 2.132880449185456, mse: 156.62592673297576\n",
      "step: 80, diff: 1.3942120141470329, mse: 129.22504461208814\n",
      "step: 100, diff: 0.982539137128792, mse: 112.18344560928085\n",
      "step: 120, diff: 0.7276835897629993, mse: 101.2434302736558\n",
      "step: 140, diff: 0.5584956696666459, mse: 94.09433665602506\n",
      "step: 160, diff: 0.4406326608168013, mse: 89.3627129216426\n",
      "step: 180, diff: 0.35549480177307535, mse: 86.19535895425271\n",
      "step: 200, diff: 0.2921328399363283, mse: 84.05163582796958\n",
      "step: 220, diff: 0.24373011381982054, mse: 82.58518393943571\n",
      "step: 240, diff: 0.20588362348721742, mse: 81.57200003230831\n",
      "step: 260, diff: 0.17567455333696042, mse: 80.86570787623066\n",
      "step: 280, diff: 0.151125941235839, mse: 80.36956628080253\n",
      "step: 300, diff: 0.1308707292335585, mse: 80.0188819476888\n",
      "step: 320, diff: 0.11394318404766221, mse: 79.76988853284793\n",
      "step: 340, diff: 0.0996458952390125, mse: 79.59264854170526\n",
      "step: 360, diff: 0.08746401867344067, mse: 79.46647140063911\n",
      "step: 380, diff: 0.07700932516647643, mse: 79.37691972644846\n",
      "step: 400, diff: 0.0679831791220793, mse: 79.31382955128373\n",
      "step: 420, diff: 0.060151642649722545, mse: 79.26998591997253\n",
      "step: 440, diff: 0.05332843562085474, mse: 79.24022733441652\n",
      "step: 460, diff: 0.04736305693299486, mse: 79.22083413259622\n",
      "step: 480, diff: 0.04213234992726612, mse: 79.20910692879193\n",
      "step: 500, diff: 0.037534404222247124, mse: 79.20307357331663\n",
      "step: 520, diff: 0.03348406912023319, mse: 79.20128383462286\n",
      "step: 540, diff: 0.029909597117095826, mse: 79.20266447925965\n",
      "step: 560, diff: 0.026750092810753103, mse: 79.20641627414194\n",
      "step: 580, diff: 0.023953544902586565, mse: 79.21194030834542\n",
      "step: 600, diff: 0.021475286824627782, mse: 79.21878496662737\n",
      "step: 620, diff: 0.019276777100098934, mse: 79.22660754697507\n",
      "step: 640, diff: 0.017324621574846273, mse: 79.23514632769205\n",
      "step: 660, diff: 0.01558978107740681, mse: 79.24420013518012\n",
      "step: 680, diff: 0.014046923038935552, mse: 79.25361332566209\n",
      "step: 700, diff: 0.012673886210457138, mse: 79.26326469494836\n",
      "step: 720, diff: 0.011451235228495516, mse: 79.27305925197481\n",
      "step: 740, diff: 0.010361887301373676, mse: 79.28292208960175\n",
      "step: 760, diff: 0.009390797356721617, mse: 79.2927937977577\n",
      "step: 780, diff: 0.008524691006000088, mse: 79.30262701524936\n",
      "step: 800, diff: 0.007751836953926938, mse: 79.31238382527162\n",
      "step: 820, diff: 0.00706185220251061, mse: 79.32203377819427\n",
      "step: 840, diff: 0.006445534715528999, mse: 79.33155238224431\n",
      "step: 860, diff: 0.005894719228358615, mse: 79.34091994430483\n",
      "step: 880, diff: 0.005402152675425543, mse: 79.35012067353014\n",
      "step: 900, diff: 0.004961386325472561, mse: 79.35914198289564\n",
      "step: 920, diff: 0.004566682197285179, mse: 79.36797394033532\n",
      "step: 940, diff: 0.0042129317135266185, mse: 79.3766088333696\n",
      "step: 960, diff: 0.0038955848537513653, mse: 79.38504082021169\n",
      "step: 980, diff: 0.003610588316844303, mse: 79.39326564710757\n",
      "process:  0 finished. step:  1000, mse:    79.40, diff:     0.00 time consuming:      0.7 seconds\n"
     ]
    }
   ],
   "source": [
    "A = A_original\n",
    "Ax = A @ x_flat\n",
    "x_et, diff, mse, objs, step = run(1000, e_stop, True)"
   ]
  },
  {
   "cell_type": "code",
   "execution_count": null,
   "id": "20a79060-8062-4cb0-b5cb-dabbe01a6a30",
   "metadata": {},
   "outputs": [],
   "source": []
  }
 ],
 "metadata": {
  "kernelspec": {
   "display_name": "nmf",
   "language": "python",
   "name": "nmf"
  },
  "language_info": {
   "codemirror_mode": {
    "name": "ipython",
    "version": 3
   },
   "file_extension": ".py",
   "mimetype": "text/x-python",
   "name": "python",
   "nbconvert_exporter": "python",
   "pygments_lexer": "ipython3",
   "version": "3.8.11"
  }
 },
 "nbformat": 4,
 "nbformat_minor": 5
}
